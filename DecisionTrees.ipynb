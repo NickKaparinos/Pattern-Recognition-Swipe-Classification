{
 "cells": [
  {
   "cell_type": "markdown",
   "metadata": {},
   "source": [
    "## About iPython Notebooks ##\n",
    "\n",
    "iPython Notebooks are interactive coding environments embedded in a webpage. You will be using iPython notebooks in this class. Make sure you fill in any place that says `# BEGIN CODE HERE #END CODE HERE`. After writing your code, you can run the cell by either pressing \"SHIFT\"+\"ENTER\" or by clicking on \"Run\" (denoted by a play symbol). Before you turn this problem in, make sure everything runs as expected. First, **restart the kernel** (in the menubar, select Kernel$\\rightarrow$Restart) and then **run all cells** (in the menubar, select Cell$\\rightarrow$Run All). \n",
    "\n",
    " **What you need to remember:**\n",
    "\n",
    "- Run your cells using SHIFT+ENTER (or \"Run cell\")\n",
    "- Write code in the designated areas using Python 3 only\n",
    "- Do not modify the code outside of the designated areas\n",
    "- In some cases you will also need to explain the results. There will also be designated areas for that. \n",
    "\n",
    "Fill in your **NAME** and **AEM** below:"
   ]
  },
  {
   "cell_type": "code",
   "execution_count": 1,
   "metadata": {},
   "outputs": [],
   "source": [
    "NAME = \"Kaparinos Nikos\"\n",
    "AEM = \"9245\""
   ]
  },
  {
   "cell_type": "markdown",
   "metadata": {},
   "source": [
    "---"
   ]
  },
  {
   "cell_type": "markdown",
   "metadata": {
    "deletable": false,
    "editable": false,
    "nbgrader": {
     "cell_type": "markdown",
     "checksum": "ce63642cafb413e7903d83d2f2cd3637",
     "grade": false,
     "grade_id": "cell-f62db6dce1ed3f2e",
     "locked": true,
     "schema_version": 3,
     "solution": false,
     "task": false
    }
   },
   "source": [
    "# Assignment 2 - Decision Trees #"
   ]
  },
  {
   "cell_type": "markdown",
   "metadata": {
    "deletable": false,
    "editable": false,
    "nbgrader": {
     "cell_type": "markdown",
     "checksum": "29d61ce286fdb8fd61c7f8e89a9e1339",
     "grade": false,
     "grade_id": "cell-dce2e73cee9a5017",
     "locked": true,
     "schema_version": 3,
     "solution": false,
     "task": false
    }
   },
   "source": [
    "Welcome to your second assignment. This exercise gives you an introduction to [scikit-learn](https://scikit-learn.org/stable/). A simple but efficient machine learning library in Python. It also gives you a wide understanding on how decision trees work. "
   ]
  },
  {
   "cell_type": "markdown",
   "metadata": {
    "deletable": false,
    "editable": false,
    "nbgrader": {
     "cell_type": "markdown",
     "checksum": "50a108d2f1e1a1ee2fde80743c0543fe",
     "grade": false,
     "grade_id": "cell-83ca2b0456fb85db",
     "locked": true,
     "schema_version": 3,
     "solution": false,
     "task": false
    }
   },
   "source": [
    "After this assignment you will:\n",
    "- Be able to use the scikit-learn library and train your own model from scratch.\n",
    "- Be able to train and understand decision trees."
   ]
  },
  {
   "cell_type": "code",
   "execution_count": 2,
   "metadata": {
    "deletable": false,
    "editable": false,
    "nbgrader": {
     "cell_type": "code",
     "checksum": "396c39a0797964c378ebb90cf18a29de",
     "grade": false,
     "grade_id": "cell-2cef6d48eea484d8",
     "locked": true,
     "schema_version": 3,
     "solution": false,
     "task": false
    }
   },
   "outputs": [],
   "source": [
    "# Always run this cell\n",
    "import numpy as np\n",
    "import pandas as pd\n",
    "from sklearn.datasets import load_breast_cancer\n",
    "from sklearn.model_selection import train_test_split\n",
    "from sklearn.tree import DecisionTreeClassifier\n",
    "from sklearn.metrics import f1_score\n",
    "import unittest\n",
    "\n",
    "# USE THIS RANDOM VARIABLE TO PRODUCE THE SAME RESULTS\n",
    "RANDOM_VARIABLE = 42"
   ]
  },
  {
   "cell_type": "markdown",
   "metadata": {},
   "source": [
    "## 1. Scikit-Learn and Decision Trees ##\n",
    "\n",
    "You are going to use the scikit-learn library to train a model for detecting breast cancer using the [Breast cancer wisconsin (diagnostic) dataset](https://scikit-learn.org/stable/datasets/index.html#breast-cancer-wisconsin-diagnostic-dataset) by training a model using [decision trees](https://scikit-learn.org/stable/modules/tree.html)."
   ]
  },
  {
   "cell_type": "markdown",
   "metadata": {},
   "source": [
    "**1.1** Load the breast cancer dataset using the scikit learn library and split the dataset into train and test set using the appropriate function. Use 30% of the dataset as the test set. Define as X the attributes and as y the target values. Do not forget to set the random_state parameter as the *RANDOM_VARIABLE* defined above. Use this variable for all the random_state parameters in this assignment."
   ]
  },
  {
   "cell_type": "code",
   "execution_count": 3,
   "metadata": {
    "deletable": false,
    "nbgrader": {
     "cell_type": "code",
     "checksum": "4b873328ea05f6ef9c08827168c7b835",
     "grade": false,
     "grade_id": "cell-1f0c2f3918333cf6",
     "locked": false,
     "schema_version": 3,
     "solution": true,
     "task": false
    }
   },
   "outputs": [],
   "source": [
    "# BEGIN CODE HERE\n",
    "X,y = load_breast_cancer(return_X_y=True,as_frame=True)\n",
    "X_train,X_test,y_train,y_test = train_test_split(X,y,random_state=RANDOM_VARIABLE,test_size=0.3)\n",
    "#END CODE HERE"
   ]
  },
  {
   "cell_type": "code",
   "execution_count": 4,
   "metadata": {
    "deletable": false,
    "editable": false,
    "nbgrader": {
     "cell_type": "code",
     "checksum": "3603b2ba8916ffdad9e9c53f31546b4c",
     "grade": true,
     "grade_id": "cell-3f43c895ceaf57a9",
     "locked": true,
     "points": 2,
     "schema_version": 3,
     "solution": false,
     "task": false
    }
   },
   "outputs": [
    {
     "name": "stdout",
     "output_type": "stream",
     "text": [
      "Size of train set:398\n",
      "Size of test set:171\n",
      "Unique classes:2\n"
     ]
    }
   ],
   "source": [
    "print(\"Size of train set:{}\".format(len(y_train)))\n",
    "print(\"Size of test set:{}\".format(len(y_test)))\n",
    "print(\"Unique classes:{}\".format(len(set(y_test))))"
   ]
  },
  {
   "cell_type": "markdown",
   "metadata": {
    "deletable": false,
    "editable": false,
    "nbgrader": {
     "cell_type": "markdown",
     "checksum": "62285a7bd3ab59718b89f7e09de0fea4",
     "grade": false,
     "grade_id": "cell-1ce621a108e76a15",
     "locked": true,
     "schema_version": 3,
     "solution": false,
     "task": false
    }
   },
   "source": [
    "**Expected output**:  \n",
    "Size of train set:398  \n",
    "Size of test set:171  \n",
    "Unique classes:2  "
   ]
  },
  {
   "cell_type": "markdown",
   "metadata": {},
   "source": [
    "**1.2** Train two DecisionTree classifiers and report the F1 score. Use the information gain for the one classifier and the Gini impurity for the other"
   ]
  },
  {
   "cell_type": "code",
   "execution_count": 5,
   "metadata": {
    "deletable": false,
    "nbgrader": {
     "cell_type": "code",
     "checksum": "17197b62614427a979fcbab7ed2734dd",
     "grade": false,
     "grade_id": "cell-a7fa1d29509eb2a1",
     "locked": false,
     "schema_version": 3,
     "solution": true,
     "task": false
    }
   },
   "outputs": [],
   "source": [
    "# BEGIN CODE HERE\n",
    "classifier_gini = DecisionTreeClassifier(random_state=RANDOM_VARIABLE).fit(X_train,y_train)\n",
    "classifier_igain = DecisionTreeClassifier(random_state=RANDOM_VARIABLE,criterion='entropy').fit(X_train,y_train)\n",
    "\n",
    "prediction_gini = classifier_gini.predict(X_test)\n",
    "prediction_igain = classifier_igain.predict(X_test)\n",
    "\n",
    "f_measure_gini = f1_score(y_test, prediction_gini)\n",
    "f_measure_igain = f1_score(y_test, prediction_igain)\n",
    "\n",
    "#END CODE HERE"
   ]
  },
  {
   "cell_type": "code",
   "execution_count": 6,
   "metadata": {
    "deletable": false,
    "editable": false,
    "nbgrader": {
     "cell_type": "code",
     "checksum": "6d9aab4355c27c346f7e6548f233e758",
     "grade": true,
     "grade_id": "cell-09657a82bf4028c4",
     "locked": true,
     "points": 3,
     "schema_version": 3,
     "solution": false,
     "task": false
    }
   },
   "outputs": [
    {
     "name": "stdout",
     "output_type": "stream",
     "text": [
      "F-Measure Gini:0.9528301886792453\n",
      "F-Measure Information Gain:0.9724770642201834\n"
     ]
    }
   ],
   "source": [
    "print(\"F-Measure Gini:{}\".format(f_measure_gini))\n",
    "print(\"F-Measure Information Gain:{}\".format(f_measure_igain))"
   ]
  },
  {
   "cell_type": "markdown",
   "metadata": {
    "deletable": false,
    "editable": false,
    "nbgrader": {
     "cell_type": "markdown",
     "checksum": "f3facbbef0dd8f25ad12bfec7c174818",
     "grade": false,
     "grade_id": "cell-b0d8630f3b764cf3",
     "locked": true,
     "schema_version": 3,
     "solution": false,
     "task": false
    }
   },
   "source": [
    "**Expected output**:  \n",
    "F-Measure Gini:0.9528301886792453  \n",
    "F-Measure Information Gain:0.9724770642201834  \n"
   ]
  },
  {
   "cell_type": "markdown",
   "metadata": {
    "deletable": false,
    "editable": false,
    "nbgrader": {
     "cell_type": "markdown",
     "checksum": "f2532168d16e8c9bffba3d7d8e1efce7",
     "grade": false,
     "grade_id": "cell-591ba122016b6db5",
     "locked": true,
     "schema_version": 3,
     "solution": false,
     "task": false
    }
   },
   "source": [
    "**1.3** Find the maximum depth reached by the tree that used the Gini impurity. Train multiple classifier by modifying the max_depth within the range from 1 to maximum depth and save the f1 scores to lists.  "
   ]
  },
  {
   "cell_type": "code",
   "execution_count": 7,
   "metadata": {
    "deletable": false,
    "nbgrader": {
     "cell_type": "code",
     "checksum": "54cf257e90a3cb5877db81297bedd45c",
     "grade": false,
     "grade_id": "cell-31c58b6161a3907d",
     "locked": false,
     "schema_version": 3,
     "solution": true,
     "task": false
    }
   },
   "outputs": [
    {
     "name": "stdout",
     "output_type": "stream",
     "text": [
      "7\n"
     ]
    }
   ],
   "source": [
    "# BEGIN CODE HERE\n",
    "#depth = classifier_gini.tree_.max_depth\n",
    "depth = 7\n",
    "print(depth)\n",
    "\n",
    "fscores_train = []\n",
    "fscores_test = []\n",
    "for d in range(1,depth+1):\n",
    "    classifier_gini = DecisionTreeClassifier(random_state=RANDOM_VARIABLE,max_depth=d).fit(X_train,y_train)\n",
    "    y_pred = classifier_gini.predict(X_train)\n",
    "    f_train = f1_score(y_train, y_pred)\n",
    "    fscores_train.append(f_train)\n",
    "    \n",
    "    y_pred = classifier_gini.predict(X_test)\n",
    "    f_test = f1_score(y_test, y_pred)\n",
    "    fscores_test.append(f_test)\n",
    "\n",
    "#END CODE HERE"
   ]
  },
  {
   "cell_type": "code",
   "execution_count": 8,
   "metadata": {
    "deletable": false,
    "editable": false,
    "nbgrader": {
     "cell_type": "code",
     "checksum": "70a249937f2f690c6ce855debaed204c",
     "grade": true,
     "grade_id": "cell-0c300109423f53b9",
     "locked": true,
     "points": 5,
     "schema_version": 3,
     "solution": false,
     "task": false
    }
   },
   "outputs": [
    {
     "name": "stdout",
     "output_type": "stream",
     "text": [
      "Fscores Train:[0.9392712550607287, 0.9533468559837729, 0.9761904761904762, 0.996, 0.996, 0.9979959919839679, 1.0]\n",
      "Fscores Test:[0.9150943396226415, 0.9444444444444444, 0.9724770642201834, 0.9629629629629629, 0.9629629629629629, 0.9674418604651163, 0.9528301886792453]\n"
     ]
    }
   ],
   "source": [
    "print(\"Fscores Train:{}\".format(fscores_train))\n",
    "print(\"Fscores Test:{}\".format(fscores_test))\n"
   ]
  },
  {
   "cell_type": "markdown",
   "metadata": {
    "deletable": false,
    "editable": false,
    "nbgrader": {
     "cell_type": "markdown",
     "checksum": "3db472d2b9db7a42cc012cd96fdeb499",
     "grade": false,
     "grade_id": "cell-75789627f20d2c94",
     "locked": true,
     "schema_version": 3,
     "solution": false,
     "task": false
    }
   },
   "source": [
    "**Expected output**:  \n",
    "Fscores Train:[0.9392712550607287, 0.9533468559837729, 0.9761904761904762, 0.996, 0.996, 0.9979959919839679, 1.0]  \n",
    "Fscores Test:[0.9150943396226415, 0.9444444444444444, 0.9724770642201834, 0.9629629629629629, 0.9629629629629629, 0.9674418604651163, 0.9528301886792453]\n",
    "\n"
   ]
  },
  {
   "cell_type": "markdown",
   "metadata": {
    "deletable": false,
    "editable": false,
    "nbgrader": {
     "cell_type": "markdown",
     "checksum": "bca7d4c160c767d27a09b4620d27d56e",
     "grade": false,
     "grade_id": "cell-5906e6d5efa70282",
     "locked": true,
     "schema_version": 3,
     "solution": false,
     "task": false
    }
   },
   "source": [
    "**1.4** Compare the results from the train set with the results from the test set. What do you notice? Explain your findings. How are you going to choose the max_depth of your model?"
   ]
  },
  {
   "cell_type": "markdown",
   "metadata": {
    "deletable": false,
    "nbgrader": {
     "cell_type": "markdown",
     "checksum": "424ac10e4e22ca9e32207deee3bf0f57",
     "grade": true,
     "grade_id": "cell-c9c6ea0e40d98b83",
     "locked": false,
     "points": 5,
     "schema_version": 3,
     "solution": true,
     "task": false
    }
   },
   "source": [
    "As expected, the testing f1 score is lower than the training f1 score. Also, the training f1 score increases when the maximum depth increases, because the model fits better to the training data. The optimal model is the one with the higher testing f1 score."
   ]
  },
  {
   "cell_type": "markdown",
   "metadata": {
    "deletable": false,
    "editable": false,
    "nbgrader": {
     "cell_type": "markdown",
     "checksum": "217666fcc2e383d6f2c1904c9d6a71be",
     "grade": false,
     "grade_id": "cell-9ef42e6c90ea2ffe",
     "locked": true,
     "schema_version": 3,
     "solution": false,
     "task": false
    }
   },
   "source": [
    "## 2.0 Pipelines ##\n",
    "\n",
    "**2.1** In this part of the exercise you are going to build a pipeline from scratch for a classification problem. Load the **income.csv** file and train a DecisionTree model that will predict the *income* variable. This dataset is a modification of the original Adult Income dataset found [here](http://archive.ics.uci.edu/ml/datasets/Adult). Report the f1-score and accuracy score of the test set found in **income_test.csv**. Your pipeline should be able to handle missing values and categorical features (scikit-learn's decision trees do not handle categorical values). You can preprocess the dataset as you like in order to achieve higher scores.  "
   ]
  },
  {
   "cell_type": "code",
   "execution_count": 9,
   "metadata": {
    "deletable": false,
    "nbgrader": {
     "cell_type": "code",
     "checksum": "152ab2dd6861b198b879a78ebadc4ee4",
     "grade": true,
     "grade_id": "cell-dd950ab2eb40d8a4",
     "locked": false,
     "points": 45,
     "schema_version": 3,
     "solution": true,
     "task": false
    }
   },
   "outputs": [
    {
     "name": "stdout",
     "output_type": "stream",
     "text": [
      "Pipeline(steps=[('imputer', imputerWrapper()),\n",
      "                ('scale', StandardScaler(with_mean=False)),\n",
      "                ('clf', DecisionTreeClassifier(random_state=42))])\n",
      "Fitting 10 folds for each of 1 candidates, totalling 10 fits\n"
     ]
    },
    {
     "name": "stderr",
     "output_type": "stream",
     "text": [
      "[Parallel(n_jobs=4)]: Using backend LokyBackend with 4 concurrent workers.\n",
      "[Parallel(n_jobs=4)]: Done  10 out of  10 | elapsed:    1.7s finished\n"
     ]
    },
    {
     "name": "stdout",
     "output_type": "stream",
     "text": [
      "   mean_fit_time  std_fit_time  mean_score_time  std_score_time params  \\\n",
      "0       0.152488      0.004014         0.004316        0.001184     {}   \n",
      "\n",
      "   split0_test_score  split1_test_score  split2_test_score  split3_test_score  \\\n",
      "0           0.821922           0.813882           0.815725            0.81726   \n",
      "\n",
      "   split4_test_score  split5_test_score  split6_test_score  split7_test_score  \\\n",
      "0           0.808968           0.806818           0.818182           0.803133   \n",
      "\n",
      "   split8_test_score  split9_test_score  mean_test_score  std_test_score  \\\n",
      "0           0.811732           0.813882          0.81315        0.005355   \n",
      "\n",
      "   rank_test_score  \n",
      "0                1  \n",
      "Accuracy score = 0.8082\n",
      "F1 score = 0.6129\n",
      "\n",
      "Execution time = 2.42 second(s)\n"
     ]
    }
   ],
   "source": [
    "# BEGIN CODE HERE\n",
    "from sklearn.experimental import enable_iterative_imputer\n",
    "from sklearn.impute import IterativeImputer\n",
    "from sklearn import preprocessing\n",
    "from sklearn.compose import ColumnTransformer\n",
    "from sklearn.impute import SimpleImputer\n",
    "from sklearn.metrics import accuracy_score\n",
    "from sklearn.metrics import f1_score\n",
    "from sklearn.metrics import make_scorer\n",
    "from sklearn.model_selection import GridSearchCV\n",
    "from sklearn.model_selection import StratifiedKFold\n",
    "from sklearn.pipeline import Pipeline\n",
    "from sklearn.tree import DecisionTreeClassifier\n",
    "from sklearn.impute import KNNImputer\n",
    "from sklearn.base import TransformerMixin,BaseEstimator\n",
    "import time\n",
    "\n",
    "# Imputers return an nd.array. An imputer passed through this class returnes a dataframe.\n",
    "class imputerWrapper(BaseEstimator, TransformerMixin):\n",
    "    def __init__(self,imp=SimpleImputer()):\n",
    "        self.imp = imp\n",
    "#         super().__init__()\n",
    "\n",
    "    def fit(self, X, y=None):\n",
    "        self.imp.fit(X)\n",
    "        return self\n",
    "\n",
    "    def transform(self, X, y=None):\n",
    "        result = pd.DataFrame(data=self.imp.transform(X),index=X.index,columns=X.columns)\n",
    "        return result\n",
    "\n",
    "pd.set_option('display.max_columns', None)\n",
    "pd.set_option('display.max_rows', None)\n",
    "start = time.perf_counter()\n",
    "acc_scorer = make_scorer(accuracy_score)\n",
    "f1_scorer = make_scorer(f1_score)\n",
    "\n",
    "# Read data\n",
    "data_train = pd.read_csv(\"income.csv\")\n",
    "data_test = pd.read_csv(\"income_test.csv\")\n",
    "\n",
    "# Convert target variable to 0 and 1\n",
    "data_train[\"income\"] = data_train[\"income\"].map({\"<=50K\": 0, \">50K\": 1})\n",
    "data_test[\"income\"] = data_test[\"income\"].map({\"<=50K\": 0, \">50K\": 1})\n",
    "\n",
    "# Outlier removal\n",
    "# print(data_train.describe(percentiles=[0.001,0.01, 0.025, 0.05, 0.1, 0.25, 0.5, 0.75, 0.9, 0.95, 0.975, 0.99, 0.999, 0.9999]))\n",
    "# data_train = data_train[data_train[\"capital-loss\"] < np.percentile(data_train[\"capital-loss\"], 99.99)]\n",
    "\n",
    "# Create X and y\n",
    "y_train = data_train['income'].values\n",
    "X_train = data_train.drop([\"income\"], axis=1)\n",
    "y_test = data_test['income'].values\n",
    "X_test = data_test.drop([\"income\"], axis=1)\n",
    "\n",
    "# Transformers\n",
    "imp1 = SimpleImputer(strategy='constant', fill_value=\"NaN\")\n",
    "le = preprocessing.LabelEncoder()\n",
    "oneEnc = preprocessing.OneHotEncoder()\n",
    "ordEnc = preprocessing.OrdinalEncoder()\n",
    "\n",
    "# Encoding\n",
    "objectColumnList = []\n",
    "for i in X_train.columns.values:\n",
    "    if X_train[i].dtype == object:\n",
    "        objectColumnList.append(i)\n",
    "        columnHasMissingValue = X_train[i].isnull().values.any()\n",
    "\n",
    "        # Imputation\n",
    "        X_train[i] = imp1.fit_transform(X_train[[i]])\n",
    "        X_test[i] = imp1.transform(X_test[[i]])\n",
    "\n",
    "        # Encoding\n",
    "        X_train[i] = le.fit_transform(X_train[i])\n",
    "        X_test[i] = le.transform(X_test[i])\n",
    "        if columnHasMissingValue:\n",
    "            # If column had a missing value, it is now encoded.\n",
    "            # Remove the encoded value from the column.\n",
    "            nan = np.array(['NaN'])\n",
    "            X_train[i] = X_train[i].replace(int(le.transform(nan)[0]), np.nan)\n",
    "#           X_test[i] = X_test[i].replace(le.transform(nan),np.nan)\n",
    "\n",
    "# One hot encoder\n",
    "pipeOneHot = ColumnTransformer([\n",
    "    (\"one_enc\", oneEnc, objectColumnList) #make_column_selector(dtype_include=object)) #\n",
    "], remainder='passthrough')\n",
    "\n",
    "# preprocessing.MinMaxScaler()\n",
    "# preprocessing.StandardScaler(with_mean=False)\n",
    "\n",
    "# Pipeline\n",
    "# imputerWrapper is used because pipeOneHot can only be used on a dataframe.\n",
    "pipe = Pipeline([\n",
    "    ('imputer', imputerWrapper()),\n",
    "#     ('one_hot', pipeOneHot),\n",
    "    ('scale', preprocessing.StandardScaler(with_mean=False)),\n",
    "    ('clf', DecisionTreeClassifier(random_state=RANDOM_VARIABLE))])\n",
    "print(pipe)\n",
    "\n",
    "pipe.fit(X_train, y_train)\n",
    "y_pred = pipe.predict(X_test)\n",
    "\n",
    "# imputer__strategy=['mean', 'median', 'most_frequent','constant'],\n",
    "# Grid search\n",
    "params = dict(\n",
    "    clf__max_depth=[1, 2, 3, 4, 5, 6, 7, 8], clf__criterion=['gini', 'entropy'], clf__min_samples_leaf=[1, 2, 3])\n",
    "params = {}\n",
    "scoring = {'acc': acc_scorer, 'f1': f1_scorer}\n",
    "cv = StratifiedKFold(n_splits=10, shuffle=True, random_state=RANDOM_VARIABLE)\n",
    "\n",
    "grid = GridSearchCV(pipe, param_grid=params, cv=cv, n_jobs=4, verbose=1, scoring='accuracy',\n",
    "                    return_train_score=False, refit=True)\n",
    "grid.fit(X_train, y_train)\n",
    "\n",
    "# Evaluate best model\n",
    "y_pred = grid.predict(X_test)\n",
    "fScore = f1_score(y_test, y_pred)\n",
    "accScore = accuracy_score(y_test, y_pred)\n",
    "\n",
    "# Print results\n",
    "results = pd.DataFrame(grid.cv_results_)\n",
    "print(results)\n",
    "print(f\"Accuracy score = {accScore:.4f}\")\n",
    "print(f\"F1 score = {fScore:.4f}\")\n",
    "\n",
    "# Execution Time\n",
    "end = time.perf_counter()\n",
    "print(f\"\\nExecution time = {end - start:.2f} second(s)\")\n",
    "# END CODE HERE"
   ]
  },
  {
   "cell_type": "code",
   "execution_count": null,
   "metadata": {},
   "outputs": [],
   "source": []
  },
  {
   "cell_type": "markdown",
   "metadata": {
    "deletable": false,
    "editable": false,
    "nbgrader": {
     "cell_type": "markdown",
     "checksum": "ee9d4c2635307395bdef2efb941106ae",
     "grade": false,
     "grade_id": "cell-2c3327274958bbad",
     "locked": true,
     "schema_version": 3,
     "solution": false,
     "task": false
    }
   },
   "source": [
    "**2.2** Describe the process you followed to achieve the results above. Your description should include, but is not limited to the following \n",
    "- How do you handle missing values and why\n",
    "- How do you handle categorical variables and why\n",
    "- Any further preprocessing steps\n",
    "- How do you evaluate your model and how did you choose its parameters \n",
    "- Report any additional results and comments on your approach."
   ]
  },
  {
   "cell_type": "markdown",
   "metadata": {
    "deletable": false,
    "nbgrader": {
     "cell_type": "markdown",
     "checksum": "1aaf3ddda45b52c2e43089b082d030f1",
     "grade": true,
     "grade_id": "cell-80274fd09b80518c",
     "locked": false,
     "points": 20,
     "schema_version": 3,
     "solution": true,
     "task": false
    }
   },
   "source": [
    "- Many imputation methods were used. Since the number of missing values is small, the imputation method did not affect the models\\` performance much. Simple mean imputation was optimal. The other imputation methods that were used are: median, most frequent, fill zero, kNN and iterative.\n",
    "- Categorical variables needed to be encoded, since scikit learn decision tree models only handle numerical data. Ordinal and one hot encoding were used. One hot encoding resulted in a very small increase in performance.\n",
    "- Simple outlier removal was experimented with. Each feature\\`s max and min values were compared to the 0.1 and 99.9 percentile respectively. Only in the feature \"capital-loss\", the max value differed significantly from the 99.9 percentile. Removing those samples slightly improved performance.\n",
    "- 10-fold cross validation was used to tune the hyper parameters and the model was evaluated in the test set.\n",
    "- To further improve the model\\`s accuracy, ensemble methods could be worth experimenting with."
   ]
  },
  {
   "cell_type": "markdown",
   "metadata": {
    "deletable": false,
    "editable": false,
    "nbgrader": {
     "cell_type": "markdown",
     "checksum": "8cef3f333ab449ed91b81ea96695e712",
     "grade": false,
     "grade_id": "cell-555d20216f9bbec2",
     "locked": true,
     "schema_version": 3,
     "solution": false,
     "task": false
    }
   },
   "source": [
    "## 3.0 Common Issues ## "
   ]
  },
  {
   "cell_type": "markdown",
   "metadata": {},
   "source": [
    "**3.0** Run the following code to define a DecisionTreeModel and load the **income** dataset only with the numerical variables. Then, answer the following questions. "
   ]
  },
  {
   "cell_type": "code",
   "execution_count": 10,
   "metadata": {
    "deletable": false,
    "editable": false,
    "nbgrader": {
     "cell_type": "code",
     "checksum": "ae0f57b86252cc38b02cac3d05e08bbf",
     "grade": false,
     "grade_id": "cell-d7f58621bad12aad",
     "locked": true,
     "schema_version": 3,
     "solution": false,
     "task": false
    }
   },
   "outputs": [],
   "source": [
    "# Load Data\n",
    "columns = ['age','fnlwgt','education_num','hours-per-week',\"capital-loss\",\"capital-gain\",\"income\"]\n",
    "data = pd.read_csv('income.csv',usecols=columns)\n",
    "data_test = pd.read_csv('income_test.csv',usecols=columns)\n",
    "# Convert target variable to 0 and 1\n",
    "data[\"income\"] = data[\"income\"].map({ \"<=50K\": 0, \">50K\": 1 })\n",
    "data_test[\"income\"] = data_test[\"income\"].map({ \"<=50K\": 0, \">50K\": 1 })\n",
    "# Create X and y\n",
    "X_train = data.drop([\"income\"],axis=1)\n",
    "y_train = data['income'].values\n",
    "X_test = data_test.drop([\"income\"],axis=1)\n",
    "y_test = data_test['income'].values\n",
    "# Classifier\n",
    "classifier = DecisionTreeClassifier(min_samples_leaf=4)"
   ]
  },
  {
   "cell_type": "markdown",
   "metadata": {
    "deletable": false,
    "editable": false,
    "nbgrader": {
     "cell_type": "markdown",
     "checksum": "c3981752b539236e99415ab6e2cbea1f",
     "grade": false,
     "grade_id": "cell-9b18d6c4e381a9f5",
     "locked": true,
     "schema_version": 3,
     "solution": false,
     "task": false
    }
   },
   "source": [
    "**3.1** Draw a learning curve for the classifer for the train and test set loaded above."
   ]
  },
  {
   "cell_type": "code",
   "execution_count": 11,
   "metadata": {
    "deletable": false,
    "nbgrader": {
     "cell_type": "code",
     "checksum": "12b88026c150b617074a5c06fea36b73",
     "grade": true,
     "grade_id": "cell-905e7dceeb4172c3",
     "locked": false,
     "points": 5,
     "schema_version": 3,
     "solution": true,
     "task": false
    }
   },
   "outputs": [
    {
     "data": {
      "image/png": "[encoded data removed]",
      "text/plain": [
       "<Figure size 432x288 with 1 Axes>"
      ]
     },
     "metadata": {
      "needs_background": "light"
     },
     "output_type": "display_data"
    }
   ],
   "source": [
    "# BEGIN CODE HERE\n",
    "import matplotlib.pyplot as plt\n",
    "import seaborn as sns\n",
    "# classifier = DecisionTreeClassifier(min_samples_leaf=4)\n",
    "\n",
    "def learning_curve(classifier,X_train, y_train, X_test, y_test): #Use any parameters you need\n",
    "    numSamples = np.linspace(100,X_train.shape[0],100,dtype=int)\n",
    "    training_acc = []\n",
    "    test_acc = []\n",
    "    for n in numSamples:\n",
    "        # Data set\n",
    "        X_train_new = X_train[:n]\n",
    "        y_train_new = y_train[:n]\n",
    "        \n",
    "        # Training\n",
    "        classifier.fit(X_train_new, y_train_new)\n",
    "        \n",
    "        # Predictions\n",
    "        y_pred_train = classifier.predict(X_train_new)\n",
    "        y_pred_test = classifier.predict(X_test)\n",
    "        \n",
    "        # Append training and test accuracy\n",
    "        training_acc.append(accuracy_score(y_train_new, y_pred_train))\n",
    "        test_acc.append(accuracy_score(y_test, y_pred_test))\n",
    "    \n",
    "    # Plot learning curve\n",
    "    sns.lineplot(x=numSamples,y=training_acc,label=\"Training accuracy\")\n",
    "    sns.lineplot(x=numSamples,y=test_acc, label=\"Test accuracy\")\n",
    "    plt.title('Learning curve')\n",
    "    plt.xlabel('Training examples')\n",
    "    plt.ylabel('Accuracy score')\n",
    "\n",
    "# Run learning curve\n",
    "learning_curve(classifier,X_train, y_train, X_test, y_test)\n",
    "#END CODE HERE"
   ]
  },
  {
   "cell_type": "markdown",
   "metadata": {
    "deletable": false,
    "editable": false,
    "nbgrader": {
     "cell_type": "markdown",
     "checksum": "361d4753f3c8491a34ff55b6fa3a49b5",
     "grade": false,
     "grade_id": "cell-1f23f3e27600f019",
     "locked": true,
     "schema_version": 3,
     "solution": false,
     "task": false
    }
   },
   "source": [
    "**3.2** Do you notice any problems with the classifier? If so, what can you do to change this."
   ]
  },
  {
   "cell_type": "markdown",
   "metadata": {
    "deletable": false,
    "nbgrader": {
     "cell_type": "markdown",
     "checksum": "baff993106fd2b655fd47d05c75ea4ce",
     "grade": true,
     "grade_id": "cell-d60d7e6175d184e9",
     "locked": false,
     "points": 5,
     "schema_version": 3,
     "solution": true,
     "task": false
    }
   },
   "source": [
    "Yes, it is obvious that the classifier is overfit. Although the training set increases in size, the test accuracy does not. Also, the training accuracy is substantially higher than the test accuracy.\n",
    "This problem can be solved by making the model not fit as much to the data by tuning the hyper parameters. By defining a maximum depth or by increasing the minimum leaf samples, we can make the model not fit as much to the data"
   ]
  },
  {
   "cell_type": "markdown",
   "metadata": {
    "deletable": false,
    "editable": false,
    "nbgrader": {
     "cell_type": "markdown",
     "checksum": "747645b33cb4f5c14796504fac6bf3ce",
     "grade": false,
     "grade_id": "cell-89715acd6c51b332",
     "locked": true,
     "schema_version": 3,
     "solution": false,
     "task": false
    }
   },
   "source": [
    "**3.3** Implement your solution using the cells below. Report your results and the process you followed. "
   ]
  },
  {
   "cell_type": "code",
   "execution_count": 23,
   "metadata": {
    "deletable": false,
    "nbgrader": {
     "cell_type": "code",
     "checksum": "ccd1d12620f1a3e1c7b026b862056546",
     "grade": true,
     "grade_id": "cell-f44811f1e99ee41e",
     "locked": false,
     "points": 5,
     "schema_version": 3,
     "solution": true,
     "task": false
    }
   },
   "outputs": [
    {
     "name": "stdout",
     "output_type": "stream",
     "text": [
      "Scores with min_samples_leaf=4:\n",
      "Accuracy score = 0.7907\n",
      "F1 score = 0.5317\n",
      "\n",
      "Tree max depth = 39\n",
      "\n",
      "Scores with min_samples_leaf=10:\n",
      "Accuracy score = 0.8123\n",
      "F1 score = 0.5441\n",
      "\n"
     ]
    },
    {
     "data": {
      "image/png": "[encoded data removed]",
      "text/plain": [
       "<Figure size 432x288 with 1 Axes>"
      ]
     },
     "metadata": {
      "needs_background": "light"
     },
     "output_type": "display_data"
    },
    {
     "name": "stdout",
     "output_type": "stream",
     "text": [
      "Scores with max_depth=10:\n",
      "Accuracy score = 0.8236\n",
      "F1 score = 0.5530\n",
      "\n"
     ]
    },
    {
     "data": {
      "image/png": "[encoded data removed]",
      "text/plain": [
       "<Figure size 432x288 with 1 Axes>"
      ]
     },
     "metadata": {
      "needs_background": "light"
     },
     "output_type": "display_data"
    },
    {
     "name": "stdout",
     "output_type": "stream",
     "text": [
      "Scores with min_samples_leaf=4,max_depth=10:\n",
      "Accuracy score = 0.8254\n",
      "F1 score = 0.5564\n",
      "\n"
     ]
    },
    {
     "data": {
      "image/png": "[encoded data removed]",
      "text/plain": [
       "<Figure size 432x288 with 1 Axes>"
      ]
     },
     "metadata": {
      "needs_background": "light"
     },
     "output_type": "display_data"
    }
   ],
   "source": [
    "# BEGIN CODE HERE\n",
    "# As mentioned above, we should make the model not fit as much to the data. This can be done by\n",
    "# tuning the hyper parameters min_samples_leaf and max depth. First, we will try tuning one of the them\n",
    "# and next we will tune both.\n",
    "classifier = DecisionTreeClassifier(min_samples_leaf=4)\n",
    "classifier.fit(X_train, y_train)\n",
    "y_pred = classifier.predict(X_test)\n",
    "starting_acc_score = accuracy_score(y_test, y_pred)\n",
    "starting_f1_score = f1_score(y_test, y_pred)\n",
    "print(\"Scores with min_samples_leaf=4:\")\n",
    "print(f\"Accuracy score = {starting_acc_score:.4f}\")\n",
    "print(f\"F1 score = {starting_f1_score:.4f}\\n\")\n",
    "\n",
    "print(f\"Tree max depth = {classifier.tree_.max_depth}\\n\")\n",
    "plt.show()\n",
    "\n",
    "# Figure 1: changing the value for min_samples_leaf\n",
    "# The results,although better, are not not much different than before.\n",
    "plt.figure(num=1)\n",
    "classifier = DecisionTreeClassifier(min_samples_leaf=4)\n",
    "learning_curve(classifier,X_train, y_train, X_test, y_test)\n",
    "classifier = DecisionTreeClassifier(min_samples_leaf=15)\n",
    "learning_curve(classifier,X_train, y_train, X_test, y_test)\n",
    "y_pred = classifier.predict(X_test)\n",
    "acc_result = accuracy_score(y_test, y_pred)\n",
    "f1_result = f1_score(y_test, y_pred)\n",
    "print(\"Scores with min_samples_leaf=10:\")\n",
    "print(f\"Accuracy score = {acc_result:.4f}\")\n",
    "print(f\"F1 score = {f1_result:.4f}\\n\")\n",
    "plt.show()\n",
    "\n",
    "\n",
    "# # Figure 2: changing the value for max_depth\n",
    "# # Changing the value for max depth made a big difference. The model does\n",
    "# # not overfit to the data and the performance is better than before.\n",
    "plt.figure(num=2)\n",
    "classifier = DecisionTreeClassifier(min_samples_leaf=4)\n",
    "learning_curve(classifier,X_train, y_train, X_test, y_test)\n",
    "classifier = DecisionTreeClassifier(max_depth=10)\n",
    "learning_curve(classifier,X_train, y_train, X_test, y_test)\n",
    "y_pred = classifier.predict(X_test)\n",
    "acc_result = accuracy_score(y_test, y_pred)\n",
    "f1_result = f1_score(y_test, y_pred)\n",
    "print(\"Scores with max_depth=10:\")\n",
    "print(f\"Accuracy score = {acc_result:.4f}\")\n",
    "print(f\"F1 score = {f1_result:.4f}\\n\")\n",
    "plt.show()\n",
    "\n",
    "# # Figure 2: changing the value for max_depth and min_samples_leaf\n",
    "# Changing the values for both these hyper parametes is slightly better than only\n",
    "# chaning the value for max depth.\n",
    "plt.figure(num=3)\n",
    "classifier = DecisionTreeClassifier(min_samples_leaf=4)\n",
    "learning_curve(classifier,X_train, y_train, X_test, y_test)\n",
    "classifier = DecisionTreeClassifier(min_samples_leaf=4,max_depth=10)\n",
    "learning_curve(classifier,X_train, y_train, X_test, y_test)\n",
    "y_pred = classifier.predict(X_test)\n",
    "acc_result = accuracy_score(y_test, y_pred)\n",
    "f1_result = f1_score(y_test, y_pred)\n",
    "print(\"Scores with min_samples_leaf=4,max_depth=10:\")\n",
    "print(f\"Accuracy score = {acc_result:.4f}\")\n",
    "print(f\"F1 score = {f1_result:.4f}\\n\")\n",
    "plt.show()\n",
    "\n",
    "final_acc_score = acc_result\n",
    "final_f1_score = f1_result\n",
    "\n",
    "#END CODE HERE"
   ]
  },
  {
   "cell_type": "markdown",
   "metadata": {
    "deletable": false,
    "nbgrader": {
     "cell_type": "markdown",
     "checksum": "b26041c1723d2858ad0833f8985801db",
     "grade": true,
     "grade_id": "cell-c99ca88f33f3717c",
     "locked": false,
     "points": 5,
     "schema_version": 3,
     "solution": true,
     "task": false
    }
   },
   "source": [
    "YOUR ANSWER HERE"
   ]
  }
 ],
 "metadata": {
  "kernelspec": {
   "display_name": "Python 3",
   "language": "python",
   "name": "python3"
  },
  "language_info": {
   "codemirror_mode": {
    "name": "ipython",
    "version": 3
   },
   "file_extension": ".py",
   "mimetype": "text/x-python",
   "name": "python",
   "nbconvert_exporter": "python",
   "pygments_lexer": "ipython3",
   "version": "3.9.0"
  },
  "pycharm": {
   "stem_cell": {
    "cell_type": "raw",
    "metadata": {
     "collapsed": false
    },
    "source": []
   }
  }
 },
 "nbformat": 4,
 "nbformat_minor": 4
}
